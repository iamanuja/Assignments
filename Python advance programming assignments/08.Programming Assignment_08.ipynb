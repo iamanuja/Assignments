{
 "cells": [
  {
   "cell_type": "markdown",
   "id": "0bae8037",
   "metadata": {},
   "source": [
    "### Assignment  8 "
   ]
  },
  {
   "cell_type": "markdown",
   "id": "9af2cc2c",
   "metadata": {},
   "source": [
    "#### 1. Given a sentence as txt, return True if any two adjacent words have this property: One word ends with a vowel, while the word immediately after begins with a vowel (a e i o u).\n",
    "**Examples:**   \n",
    "`vowel_links(\"a very large appliance\") ➞ True`  \n",
    "`vowel_links(\"go to edabit\") ➞ True`  \n",
    "`vowel_links(\"an open fire\") ➞ False`  \n",
    "`vowel_links(\"a sudden applause\") ➞ False`  "
   ]
  },
  {
   "cell_type": "code",
   "execution_count": 7,
   "id": "d334d210",
   "metadata": {},
   "outputs": [
    {
     "name": "stdout",
     "output_type": "stream",
     "text": [
      "vowel_links(a very large appliance) -> True\n"
     ]
    }
   ],
   "source": [
    "def vowel_links(string):\n",
    "    in_list = string.split(\" \")\n",
    "    vowel_list = ['a','e','i','o','u']\n",
    "    end,start,output = False, False,False\n",
    "    for ele in range(len(in_list)):\n",
    "        temp = True if in_list[ele][-1] in vowel_list else False\n",
    "        start = True if in_list[ele][0] in vowel_list else False\n",
    "        if start == end == True:\n",
    "            output=True\n",
    "            break\n",
    "        end=temp\n",
    "    print(f'vowel_links({string}) -> {output}')\n",
    "                \n",
    "vowel_links(\"a very large appliance\")"
   ]
  },
  {
   "cell_type": "markdown",
   "id": "9fab466a",
   "metadata": {},
   "source": [
    "#### 2. You are given three inputs: a string, one letter, and a second letter. Write a function that returns True if every instance of the first letter occurs before every instance of the second letter.\n",
    "**Examples:**    \n",
    "`first_before_second(\"a rabbit jumps joyfully\", \"a\", \"j\") ➞ True`      \n",
    "`# Every instance of \"a\" occurs before every instance of \"j\".`       \n",
    "\n",
    "`first_before_second(\"knaves knew about waterfalls\", \"k\", \"w\") ➞  True`     \n",
    "\n",
    "`first_before_second(\"happy birthday\", \"a\", \"y\") ➞ False`  \n",
    "`# The \"a\" in \"birthday\" occurs after the \"y\" in \"happy\".`  \n",
    "\n",
    "`first_before_second(\"precarious kangaroos\", \"k\", \"a\") ➞ False`   "
   ]
  },
  {
   "cell_type": "code",
   "execution_count": 4,
   "id": "00b6de59",
   "metadata": {},
   "outputs": [
    {
     "name": "stdout",
     "output_type": "stream",
     "text": [
      "first_before_second_index(happy birthday, a, y) -> False\n",
      "\n"
     ]
    }
   ],
   "source": [
    "def first_before_second(string,a,b):\n",
    "    last_occurance = string.rindex(a)\n",
    "    first_occurance = string.index(b)\n",
    "    result = True if last_occurance < first_occurance else False\n",
    "    print(f'first_before_second_index({string}, {a}, {b}) -> {result}')\n",
    "\n",
    "first_before_second(\"happy birthday\", \"a\", \"y\")\n",
    "print()"
   ]
  },
  {
   "cell_type": "markdown",
   "id": "848113ea",
   "metadata": {},
   "source": [
    "#### 3. Create a function that returns the characters from a list or string r on odd or even positions, depending on the specifier s. The specifier will be \"odd\" for items on odd positions (1, 3, 5, ...) and \"even\" for items on even positions (2, 4, 6, ...).\n",
    "**Examples:**   \n",
    "`char_at_pos([2, 4, 6, 8, 10], \"even\") ➞ [4, 8]`  \n",
    "`# 4 & 8 occupy the 2nd & 4th positions`  \n",
    "\n",
    "`char_at_pos(\"EDABIT\", \"odd\") ➞ \"EAI\"`   \n",
    "`# \"E\", \"A\" and \"I\" occupy the 1st, 3rd and 5th positions`  \n",
    "\n",
    "`char_at_pos([\"A\", \"R\", \"B\", \"I\", \"T\", \"R\", \"A\", \"R\", \"I\", \"L\", \"Y\"], \"odd\") ➞ [\"A\", \"B\", \"T\", \"A\", \"I\", \"Y\"]`  "
   ]
  },
  {
   "cell_type": "code",
   "execution_count": 1,
   "id": "22dfe4b4",
   "metadata": {},
   "outputs": [
    {
     "name": "stdout",
     "output_type": "stream",
     "text": [
      "char_at_pos([4, 8], 'even') -> [4, 8]\n"
     ]
    }
   ],
   "source": [
    "def char_at_pos(list1,mode):\n",
    "    result = []\n",
    "    for i in range(len(list1)):\n",
    "        if mode == 'even' and (i+1)%2 == 0:\n",
    "            result.append(list1[i])\n",
    "        elif mode == 'odd' and (i+1)%2 != 0:\n",
    "            result.append(list1[i])            \n",
    "    print(f'char_at_pos{result,mode} -> {result}')\n",
    "        \n",
    "        \n",
    "char_at_pos([2, 4, 6, 8, 10], \"even\")"
   ]
  },
  {
   "cell_type": "markdown",
   "id": "e6d53fb2",
   "metadata": {},
   "source": [
    "#### 4. Write a function that returns the greatest common divisor of all list elements. If the greatest common divisor is 1, return 1.\n",
    "**Examples:**   \n",
    "`GCD([10, 20, 40]) ➞ 10`  \n",
    "`GCD([1, 2, 3, 100]) ➞ 1`  \n",
    "`GCD([1024, 192, 2048, 512]) ➞ 64`  "
   ]
  },
  {
   "cell_type": "code",
   "execution_count": 14,
   "id": "94be635c",
   "metadata": {},
   "outputs": [
    {
     "name": "stdout",
     "output_type": "stream",
     "text": [
      "GCD([10, 20, 40]) -> 10\n"
     ]
    }
   ],
   "source": [
    "\n",
    "def GCD(list1):\n",
    "    small = min(list1)\n",
    "    gcd = -1\n",
    "    for i in range(1, small+1):\n",
    "        output = []\n",
    "        for ele in list1:\n",
    "            output.append(ele%i)\n",
    "        if len(set(output)) == 1 and list(set(output))[0] == 0:\n",
    "            gcd = i\n",
    "    print(f'GCD({list1}) -> {gcd}')\n",
    "    \n",
    "GCD([10, 20, 40])\n"
   ]
  },
  {
   "cell_type": "markdown",
   "id": "c1dc0d46",
   "metadata": {},
   "source": [
    "#### 5. A number/string is a palindrome if the digits/characters are the same when read both forward and backward. Examples include \"racecar\" and 12321. Given a positive number n, check if n or the binary representation of n is palindromic. Return the following:\n",
    "\n",
    "- \"Decimal only.\" if only n is a palindrome.\n",
    "- \"Binary only.\" if only the binary representation of n is a palindrome.\n",
    "- \"Decimal and binary.\" if both are palindromes.\n",
    "- \"Neither!\" if neither are palindromes.\n",
    "\n",
    "**Examples:**   \n",
    "\n",
    "`palindrome_type(1306031) ➞ \"Decimal only.\"`   \n",
    "`# decimal = 1306031`   \n",
    "`# binary  = \"100111110110110101111\"`   \n",
    "\n",
    "`palindrome_type(427787) ➞ \"Binary only.\"`   \n",
    "`# decimal = 427787`   \n",
    "`# binary  = \"1101000011100001011\"`   \n",
    "\n",
    "`palindrome_type(313) ➞ \"Decimal and binary.\"`  \n",
    "`# decimal = 313`  \n",
    "`# binary  = 100111001`  \n",
    "\n",
    "`palindrome_type(934) ➞ \"Neither!\"`   \n",
    "`# decimal = 934`  \n",
    "`# binary  = \"1110100110\"`  "
   ]
  },
  {
   "cell_type": "code",
   "execution_count": 3,
   "id": "d49e53e5",
   "metadata": {},
   "outputs": [
    {
     "name": "stdout",
     "output_type": "stream",
     "text": [
      "palindrome(1306031) -> Decimal only.\n"
     ]
    }
   ],
   "source": [
    "def palindrome_type(num):\n",
    "    output = None\n",
    "    if str(num) == str(num)[::-1] and str(bin(num)[2:]) == str(bin(num)[2:])[::-1]:\n",
    "        output = 'Decimal and binary.'\n",
    "    elif str(num) == str(num)[::-1] and str(bin(num)[2:]) != str(bin(num)[2:])[::-1]:\n",
    "        output = 'Decimal only.'\n",
    "    elif str(bin(num)[2:]) == str(bin(num)[2:])[::-1] and str(num) != str(num)[::-1]:\n",
    "        output = 'Binary only.'\n",
    "    else:\n",
    "        output = 'Neither!'\n",
    "    print(f'palindrome({num}) -> {output}')\n",
    "\n",
    "palindrome_type(1306031)"
   ]
  }
 ],
 "metadata": {
  "kernelspec": {
   "display_name": "Python 3 (ipykernel)",
   "language": "python",
   "name": "python3"
  },
  "language_info": {
   "codemirror_mode": {
    "name": "ipython",
    "version": 3
   },
   "file_extension": ".py",
   "mimetype": "text/x-python",
   "name": "python",
   "nbconvert_exporter": "python",
   "pygments_lexer": "ipython3",
   "version": "3.11.2"
  }
 },
 "nbformat": 4,
 "nbformat_minor": 5
}
