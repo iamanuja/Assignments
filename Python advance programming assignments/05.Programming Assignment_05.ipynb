{
 "cells": [
  {
   "cell_type": "markdown",
   "id": "e44198a7",
   "metadata": {},
   "source": [
    "### Assignment 5 "
   ]
  },
  {
   "cell_type": "markdown",
   "id": "a1b117a0",
   "metadata": {},
   "source": [
    "#### 1.Create a function that takes a number n (integer greater than zero) as an argument, and returns 2 if n is odd and 8 if n is even. \n",
    "You can only use the following arithmetic operators:  \n",
    "`addition of numbers +, \n",
    "subtraction of numbers -, \n",
    "multiplication of number *, \n",
    "division of number /, \n",
    "and exponentiation **.`  \n",
    "You are not allowed to use any other methods in this challenge (i.e. no if statements, comparison operators, etc).  \n",
    "**Examples:**   \n",
    "`f(1) ➞ 2`  \n",
    "`f(2) ➞ 8`  \n",
    "`f(3) ➞ 2` "
   ]
  },
  {
   "cell_type": "code",
   "execution_count": 2,
   "id": "0c3f23e7",
   "metadata": {},
   "outputs": [
    {
     "name": "stdout",
     "output_type": "stream",
     "text": [
      "f(1)-> 2\n",
      "f(2)-> 8\n",
      "f(3)-> 2\n"
     ]
    }
   ],
   "source": [
    "def f(num):\n",
    "    output = [8,2]\n",
    "    print(f'f({num})-> {output[num&1]}')\n",
    "    \n",
    "f(1)\n",
    "f(2)\n",
    "f(3)"
   ]
  },
  {
   "cell_type": "markdown",
   "id": "1201e3a6",
   "metadata": {},
   "source": [
    "#### 2.Create a function that returns the majority vote in a list. A majority vote is an element that occurs > N/2 times in a list (where N is the length of the list).\n",
    "**Examples:**   \n",
    "`majority_vote([\"A\", \"A\", \"B\"]) ➞ \"A\"`  \n",
    "`majority_vote([\"A\", \"A\", \"A\", \"B\", \"C\", \"A\"]) ➞ \"A\"`  \n",
    "`majority_vote([\"A\", \"B\", \"B\", \"A\", \"C\", \"C\"]) ➞ None`  "
   ]
  },
  {
   "cell_type": "code",
   "execution_count": 5,
   "id": "34ea855b",
   "metadata": {},
   "outputs": [
    {
     "name": "stdout",
     "output_type": "stream",
     "text": [
      "majority_vote(['A', 'A', 'B']) -> A\n",
      "majority_vote(['A', 'A', 'A', 'B', 'C', 'A']) -> A\n",
      "majority_vote(['A', 'B', 'B', 'A', 'C', 'C']) -> None\n"
     ]
    }
   ],
   "source": [
    "def majority_vote(list1):\n",
    "    result = None\n",
    "    for ele in set(list1):\n",
    "        if list1.count(ele) > (len(list1)/2):\n",
    "            result= ele\n",
    "    print(f'majority_vote({list1}) -> {result}')\n",
    "    \n",
    "majority_vote([\"A\", \"A\", \"B\"])\n",
    "majority_vote([\"A\", \"A\", \"A\", \"B\", \"C\", \"A\"])\n",
    "majority_vote([\"A\", \"B\", \"B\", \"A\", \"C\", \"C\"])"
   ]
  },
  {
   "cell_type": "markdown",
   "id": "3438eb6a",
   "metadata": {},
   "source": [
    "#### 3.Create a function that takes a string txt and censors any word from a given list lst. The text removed must be replaced by the given character char.\n",
    "**Examples:**   \n",
    "`censor_string(\"Today is a Wednesday!\", [\"Today\", \"a\"], \"-\") ➞ \"----- is - Wednesday!\"`  \n",
    "`censor_string(\"The cow jumped over the moon.\", [\"cow\", \"over\"], \"*\"), \"The *** jumped **** the moon.\")`  \n",
    "`censor_string(\"Why did the chicken cross the road ?\", [\"Did\", \"chicken\", \"road\"], \"*\") ➞ \"Why *** the ******* cross the ****?\"`  "
   ]
  },
  {
   "cell_type": "code",
   "execution_count": 7,
   "id": "4eef5ed7",
   "metadata": {},
   "outputs": [
    {
     "name": "stdout",
     "output_type": "stream",
     "text": [
      "censor_string(Today is a Wednesday!) ➞ ----- is - Wednesday!\n"
     ]
    }
   ],
   "source": [
    "def censor_string(str1, str2, rep_char):\n",
    "    result= []\n",
    "    for ele in str1.split():\n",
    "        if ele.title() in str2 or ele.lower() in str2 or ele.upper() in str2:\n",
    "            result.append(rep_char*len(ele))\n",
    "        else:\n",
    "            result.append(ele)\n",
    "    print(f'censor_string({str1}) ➞ {\" \".join(result)}')\n",
    "\n",
    "censor_string(\"Today is a Wednesday!\", [\"Today\", \"a\"], \"-\")"
   ]
  },
  {
   "cell_type": "markdown",
   "id": "898c3847",
   "metadata": {},
   "source": [
    "#### 4.In mathematics a Polydivisible Number (or magic number) is a number in a given number base with digits abcde... that has the following properties:\n",
    "- Its first digit a is not 0.\n",
    "- The number formed by its first two digits ab is a multiple of 2.\n",
    "- The number formed by its first three digits abc is a multiple of 3.\n",
    "- The number formed by its first four digits abcd is a multiple of 4.\n",
    "Create a function which takes an integer n and returns True if the given number is a Polydivisible Number and False otherwise. \n",
    "\n",
    "**Examples:**   \n",
    "`is_polydivisible(1232) ➞ True\n",
    "    # 1     / 1 = 1\n",
    "    # 12    / 2 = 6\n",
    "    # 123   / 3 = 41\n",
    "    # 1232  / 4 = 308\n",
    "is_polydivisible(123220 ) ➞ False\n",
    "    # 1   / 1 = 1\n",
    "    # 12   / 2 = 6\n",
    "    # 123   / 3 = 41\n",
    "    # 1232   / 4 = 308\n",
    "    # 12322   / 5 = 2464.4         # Not a Whole Number\n",
    "    # 123220   /6 = 220536.333...  # Not a Whole Number`"
   ]
  },
  {
   "cell_type": "code",
   "execution_count": 11,
   "id": "16300760",
   "metadata": {},
   "outputs": [
    {
     "name": "stdout",
     "output_type": "stream",
     "text": [
      "True\n"
     ]
    }
   ],
   "source": [
    "def is_polydivisible(n):\n",
    "    N = n\n",
    "    digit = []\n",
    "    while (n > 0):\n",
    "        digit.append(n % 10)\n",
    "        n //= 10\n",
    "    digit = digit[::-1] \n",
    "    flag = True\n",
    "    n = digit[0]\n",
    "    for i in range(1, len(digit), 1):\n",
    "        n = n * 10 + digit[i]\n",
    "        if (n % (i + 1) != 0):\n",
    "            flag = False\n",
    "            break      \n",
    "    if (flag):\n",
    "        print(True)\n",
    "    else:\n",
    "        print(False)\n",
    "is_polydivisible(1232)\n",
    " "
   ]
  },
  {
   "cell_type": "markdown",
   "id": "23b50918",
   "metadata": {},
   "source": [
    "#### 5.. Create a function that takes a list of numbers and returns the sum of all prime numbers in the list.\n",
    "**Examples:**   \n",
    "`sum_primes([1, 2, 3, 4, 5, 6, 7, 8, 9, 10]) ➞ 17`   \n",
    "`sum_primes([2, 3, 4, 11, 20, 50, 71]) ➞ 87`  \n",
    "`sum_primes([]) ➞ None`"
   ]
  },
  {
   "cell_type": "code",
   "execution_count": 3,
   "id": "ed6a87d0",
   "metadata": {},
   "outputs": [
    {
     "name": "stdout",
     "output_type": "stream",
     "text": [
      "17\n"
     ]
    }
   ],
   "source": [
    "def sumprimes(l):\n",
    "    primeNum = []\n",
    "    for item in l:\n",
    "        is_prime = True\n",
    "        if(item >= 2):\n",
    "            maxInt = int(item ** 0.5) + 1\n",
    "            for i in range(2, maxInt):\n",
    "                if(item % i == 0):\n",
    "                    is_prime = False\n",
    "                    break\n",
    "            if(is_prime):\n",
    "                primeNum.append(item)\n",
    "    return(sum(primeNum))\n",
    "\n",
    "print(sumprimes([1, 2, 3, 4, 5, 6, 7, 8, 9, 10]))"
   ]
  }
 ],
 "metadata": {
  "kernelspec": {
   "display_name": "Python 3 (ipykernel)",
   "language": "python",
   "name": "python3"
  },
  "language_info": {
   "codemirror_mode": {
    "name": "ipython",
    "version": 3
   },
   "file_extension": ".py",
   "mimetype": "text/x-python",
   "name": "python",
   "nbconvert_exporter": "python",
   "pygments_lexer": "ipython3",
   "version": "3.11.2"
  }
 },
 "nbformat": 4,
 "nbformat_minor": 5
}
