{
 "cells": [
  {
   "cell_type": "markdown",
   "id": "63646903",
   "metadata": {},
   "source": [
    "### Assignment 19"
   ]
  },
  {
   "cell_type": "markdown",
   "id": "a80b431a",
   "metadata": {},
   "source": [
    "#### 1.Create a function that takes a string and returns a string in which each character is repeated once.\n",
    "**Examples:**  \n",
    "`double_char(\"String\") ➞ \"SSttrriinngg\"`  \n",
    "`double_char(\"Hello World!\") ➞ \"HHeelllloo WWoorrlldd!!\"`  \n",
    "`doublechar(\"1234!_\") ➞ \"11223344!!__\"`  "
   ]
  },
  {
   "cell_type": "code",
   "execution_count": 5,
   "id": "7c34f85c",
   "metadata": {},
   "outputs": [
    {
     "name": "stdout",
     "output_type": "stream",
     "text": [
      "enter string : anuja\n",
      "aannuujjaa\n"
     ]
    }
   ],
   "source": [
    "instring=input(\"enter string : \")\n",
    "def double_char(instring):\n",
    "    outstring = ''\n",
    "    for ele in instring:\n",
    "        outstring += ele*2\n",
    "    print(outstring)\n",
    "\n",
    "double_char(instring)\n"
   ]
  },
  {
   "cell_type": "markdown",
   "id": "36c73da9",
   "metadata": {},
   "source": [
    "#### 2.Create a function that reverses a boolean value and returns the string \"boolean expected\" if another variable type is given.\n",
    "**Examples:**  \n",
    "`reverse(True) ➞ False`  \n",
    "`reverse(False) ➞ True`  \n",
    "`reverse(0) ➞ \"boolean expected\"`  \n",
    "`reverse(None) ➞ \"boolean expected\"`  "
   ]
  },
  {
   "cell_type": "code",
   "execution_count": 21,
   "id": "9cb5a79b",
   "metadata": {},
   "outputs": [
    {
     "name": "stdout",
     "output_type": "stream",
     "text": [
      "enter boolean value True or False : true\n",
      "False\n"
     ]
    }
   ],
   "source": [
    "rbool=bool(input(\"enter boolean value True or False : \"))\n",
    "def reverse():\n",
    "    if type(rbool) == bool :\n",
    "        print(not rbool)\n",
    "    else:\n",
    "        return \"Boolean Expected\"\n",
    "reverse()"
   ]
  },
  {
   "cell_type": "markdown",
   "id": "e6161ea2",
   "metadata": {},
   "source": [
    "#### 3. Create a function that returns the thickness (in meters) of a piece of paper after folding it n number of times. The paper starts off with a thickness of 0.5mm.\n",
    "**Examples:**  \n",
    "`num_layers(1) ➞ \"0.001m\"\n",
    "    # Paper folded once is 1mm (equal to 0.001m)\n",
    "num_layers(4) ➞ \"0.008m\"\n",
    "    # Paper folded 4 times is 8mm (equal to 0.008m)\n",
    "num_layers(21) ➞ \"1048.576m\"\n",
    "    # Paper folded 21 times is 1048576mm (equal to 1048.576m)`"
   ]
  },
  {
   "cell_type": "code",
   "execution_count": 8,
   "id": "3abb23af",
   "metadata": {},
   "outputs": [
    {
     "name": "stdout",
     "output_type": "stream",
     "text": [
      "Output -> 1048.576m\n"
     ]
    }
   ],
   "source": [
    "def num_layers(in_num):\n",
    "    out_num = 0.5\n",
    "    for ele in range(in_num):\n",
    "        out_num *= 2\n",
    "    print(f'Output -> {out_num/1000}m')\n",
    "    \n",
    "num_layers(21)"
   ]
  },
  {
   "cell_type": "markdown",
   "id": "c71bac5c",
   "metadata": {},
   "source": [
    "#### 4.Create a function that takes a single string as argument and returns an ordered list containing the indices of all capital letters in the string.\n",
    "**Examples:**  \n",
    "`index_of_caps(\"eDaBiT\") ➞ [1, 3, 5]`  \n",
    "`index_of_caps(\"eQuINoX\") ➞ [1, 3, 4, 6]`  \n",
    "`index_of_caps(\"determine\") ➞ []`  \n",
    "`index_of_caps(\"STRIKE\") ➞ [0, 1, 2, 3, 4, 5]`  \n",
    "`index_of_caps(\"sUn\") ➞ [1]`  "
   ]
  },
  {
   "cell_type": "code",
   "execution_count": 11,
   "id": "e6ce83db",
   "metadata": {},
   "outputs": [
    {
     "name": "stdout",
     "output_type": "stream",
     "text": [
      "eDaBiT -> [1, 3, 5]\n"
     ]
    }
   ],
   "source": [
    "def index_of_caps(instring):\n",
    "    outstring = []\n",
    "    for ele in instring:\n",
    "        if ele.isupper():\n",
    "            outstring.append(instring.index(ele))\n",
    "    print(f'{instring} -> {outstring}')\n",
    "\n",
    "index_of_caps(\"eDaBiT\")"
   ]
  },
  {
   "cell_type": "markdown",
   "id": "11770ca9",
   "metadata": {},
   "source": [
    "#### 5.Using list comprehensions, create a function that finds all even numbers from 1 to the given number.\n",
    "**Examples:**  \n",
    "`find_even_nums(8) ➞ [2, 4, 6, 8]`  \n",
    "`find_even_nums(4) ➞ [2, 4]`   \n",
    "`find_even_nums(2) ➞ [2]`  "
   ]
  },
  {
   "cell_type": "code",
   "execution_count": 13,
   "id": "3609695d",
   "metadata": {},
   "outputs": [
    {
     "name": "stdout",
     "output_type": "stream",
     "text": [
      "enter last no. 20\n",
      "Output -> [2, 4, 6, 8, 10, 12, 14, 16, 18, 20]\n",
      "enter last no. 8\n",
      "Output -> [2, 4, 6, 8]\n",
      "enter last no. 2\n",
      "Output -> [2]\n"
     ]
    }
   ],
   "source": [
    "def find_even_nums():\n",
    "    innum=int(input(\"enter last no. \"))\n",
    "    list1 = [i for i in range(1,innum+1) if i%2 == 0]\n",
    "    print(f'Output -> {list1}')\n",
    "    \n",
    "for i in range(3):\n",
    "    find_even_nums()"
   ]
  }
 ],
 "metadata": {
  "kernelspec": {
   "display_name": "Python 3 (ipykernel)",
   "language": "python",
   "name": "python3"
  },
  "language_info": {
   "codemirror_mode": {
    "name": "ipython",
    "version": 3
   },
   "file_extension": ".py",
   "mimetype": "text/x-python",
   "name": "python",
   "nbconvert_exporter": "python",
   "pygments_lexer": "ipython3",
   "version": "3.11.2"
  }
 },
 "nbformat": 4,
 "nbformat_minor": 5
}
