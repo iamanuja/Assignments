{
 "cells": [
  {
   "cell_type": "markdown",
   "id": "0753e292",
   "metadata": {},
   "source": [
    "### Assignment 10"
   ]
  },
  {
   "cell_type": "markdown",
   "id": "d6f96d38",
   "metadata": {},
   "source": [
    "#### 1.Write a Python Program to find sum of elements in a list ?"
   ]
  },
  {
   "cell_type": "code",
   "execution_count": 10,
   "id": "1fbea5b2",
   "metadata": {},
   "outputs": [
    {
     "name": "stdout",
     "output_type": "stream",
     "text": [
      "Enter the No of Entries in a List: 5\n",
      "Enter a element: 1\n",
      "Enter a element: 2\n",
      "Enter a element: 3\n",
      "Enter a element: 3\n",
      "Enter a element: 3\n",
      "Sum of Elements: 12\n"
     ]
    }
   ],
   "source": [
    "def sumofList():\n",
    "    x= int(input('Enter the No of Entries in a List: '))\n",
    "    list1 = []\n",
    "    for i in range(x):\n",
    "        list1.append(int(input('Enter a element: ')))\n",
    "    print(f'Sum of Elements: {sum(list1)}')\n",
    "\n",
    "sumofList()"
   ]
  },
  {
   "cell_type": "markdown",
   "id": "35ff9c7c",
   "metadata": {},
   "source": [
    "#### 2.Write a Python Program to multiply all numbers in the list ?"
   ]
  },
  {
   "cell_type": "code",
   "execution_count": 6,
   "id": "1641de07",
   "metadata": {},
   "outputs": [
    {
     "name": "stdout",
     "output_type": "stream",
     "text": [
      "Enter a list elements separated by space 1 2 3\n",
      "Calculating sum of element of input list\n",
      "Sum =  6\n"
     ]
    }
   ],
   "source": [
    "input_string = input(\"Enter a list elements separated by space \")\n",
    "list1  = input_string.split()\n",
    "print(\"Calculating sum of element of input list\")\n",
    "sum = 1\n",
    "for num in list1:\n",
    "    sum *= int (num)\n",
    "print(\"Sum = \",sum)"
   ]
  },
  {
   "cell_type": "markdown",
   "id": "0561967b",
   "metadata": {},
   "source": [
    "#### 3.Write a Python Program to find smallest number in the list ?"
   ]
  },
  {
   "cell_type": "code",
   "execution_count": 13,
   "id": "a7c57851",
   "metadata": {},
   "outputs": [
    {
     "name": "stdout",
     "output_type": "stream",
     "text": [
      "Enter a list elements separated by space 9 5 6 4 7 1 2 3\n",
      "smallest element is 1\n"
     ]
    }
   ],
   "source": [
    "input_string = input(\"Enter a list elements separated by space \")\n",
    "list1  = input_string.split()\n",
    "list2 =[]\n",
    "for num in list1:\n",
    "    list2.append(int(num))\n",
    "sortedlist=sorted(list2)\n",
    "print(\"smallest element is\",sortedlist[0])"
   ]
  },
  {
   "cell_type": "markdown",
   "id": "0684d2e6",
   "metadata": {},
   "source": [
    "#### 4.Write a Python Program to find largest number in the list ?"
   ]
  },
  {
   "cell_type": "code",
   "execution_count": 15,
   "id": "0dc190cc",
   "metadata": {},
   "outputs": [
    {
     "name": "stdout",
     "output_type": "stream",
     "text": [
      "Enter a list elements separated by space 17 18 5 6 4 3 2 19\n",
      "largest element is 19\n"
     ]
    }
   ],
   "source": [
    "input_string = input(\"Enter a list elements separated by space \")\n",
    "list1  = input_string.split()\n",
    "list2 =[]\n",
    "for num in list1:\n",
    "    list2.append(int(num))\n",
    "sortedlist=sorted(list2)\n",
    "print(\"largest element is\",sortedlist[-1])"
   ]
  },
  {
   "cell_type": "markdown",
   "id": "ef882ac4",
   "metadata": {},
   "source": [
    "#### 5.Write a Python Program to find second largest number in the list ?"
   ]
  },
  {
   "cell_type": "code",
   "execution_count": 16,
   "id": "ca2c5e29",
   "metadata": {},
   "outputs": [
    {
     "name": "stdout",
     "output_type": "stream",
     "text": [
      "Enter a list elements separated by space 5 4 6 2 1 3 9\n",
      "2nd largest element is 6\n"
     ]
    }
   ],
   "source": [
    "input_string = input(\"Enter a list elements separated by space \")\n",
    "list1  = input_string.split()\n",
    "list2 =[]\n",
    "for num in list1:\n",
    "    list2.append(int(num))\n",
    "sortedlist=sorted(list2)\n",
    "print(\"2nd largest element is\",sortedlist[-2])"
   ]
  },
  {
   "cell_type": "markdown",
   "id": "ee185d52",
   "metadata": {},
   "source": [
    "#### 6.Write a Python Program to find N largest elements in the list ?"
   ]
  },
  {
   "cell_type": "code",
   "execution_count": 4,
   "id": "8ec8ffdf",
   "metadata": {},
   "outputs": [
    {
     "name": "stdout",
     "output_type": "stream",
     "text": [
      "Enter a list elements separated by space 9 5 7 8 6 4 3 1 2\n",
      "sorted list is : [1, 2, 3, 4, 5, 6, 7, 8, 9]\n",
      "enter the Nth largest Number which You want from list :5\n",
      "Nth largest element from list is  5\n"
     ]
    }
   ],
   "source": [
    "input_string = input(\"Enter a list elements separated by space \")\n",
    "list1  = input_string.split()\n",
    "list2 =[]\n",
    "for num in list1:\n",
    "    list2.append(int(num))\n",
    "sortedlist=sorted(list2)\n",
    "print(\"sorted list is :\",sortedlist)\n",
    "K =int(input(\"enter the Nth largest Number which You want from list :\"))\n",
    "print(\"Nth largest element from list is \",sortedlist[K-1])"
   ]
  },
  {
   "cell_type": "markdown",
   "id": "7f5a2b91",
   "metadata": {},
   "source": [
    "#### 7.Write a Python Program to find even numbers in the list ?"
   ]
  },
  {
   "cell_type": "code",
   "execution_count": 1,
   "id": "e9b0d19a",
   "metadata": {},
   "outputs": [
    {
     "name": "stdout",
     "output_type": "stream",
     "text": [
      "Enter a list elements separated by space 1 2 3 4 5 6 7 8 9\n",
      "The Even Elements in list are [2, 4, 6, 8]\n"
     ]
    }
   ],
   "source": [
    "input_string = input(\"Enter a list elements separated by space \")\n",
    "list1  = input_string.split()\n",
    "list2 =[]\n",
    "even_list = []\n",
    "for num in list1:\n",
    "    list2.append(int(num))\n",
    "for ele in list2:\n",
    "    if ele%2 == 0:\n",
    "        even_list.append(ele)\n",
    "print(f'The Even Elements in list are {even_list}')"
   ]
  },
  {
   "cell_type": "markdown",
   "id": "a5d3f862",
   "metadata": {},
   "source": [
    "#### 8.Write a Python Program to find odd numbers in the list ?"
   ]
  },
  {
   "cell_type": "code",
   "execution_count": 2,
   "id": "101d0718",
   "metadata": {},
   "outputs": [
    {
     "name": "stdout",
     "output_type": "stream",
     "text": [
      "Enter a list elements separated by space 1 2 3 4 5 6 7 8 9\n",
      "The odd Elements in list are [1, 3, 5, 7, 9]\n"
     ]
    }
   ],
   "source": [
    "input_string = input(\"Enter a list elements separated by space \")\n",
    "list1  = input_string.split()\n",
    "list2 =[]\n",
    "oddlist = []\n",
    "for num in list1:\n",
    "    list2.append(int(num))\n",
    "for ele in list2:\n",
    "    if ele%2 != 0:\n",
    "        oddlist.append(ele)\n",
    "print(f'The odd Elements in list are {oddlist}')"
   ]
  },
  {
   "cell_type": "markdown",
   "id": "f97fa7ea",
   "metadata": {},
   "source": [
    "#### 9.Write a Python Program to remove empty list from list ?"
   ]
  },
  {
   "cell_type": "code",
   "execution_count": 1,
   "id": "193a2ef1",
   "metadata": {},
   "outputs": [
    {
     "name": "stdout",
     "output_type": "stream",
     "text": [
      "The original list is : [5, 6, [], 3, [], [], 9]\n",
      "List after empty list removal : [5, 6, 3, 9]\n"
     ]
    }
   ],
   "source": [
    "test_list = [5, 6, [], 3, [], [], 9]\n",
    "print(\"The original list is : \" + str(test_list))\n",
    "res = [ele for ele in test_list if ele != []]\n",
    "print(\"List after empty list removal : \" + str(res))"
   ]
  },
  {
   "cell_type": "markdown",
   "id": "1a5b1f91",
   "metadata": {},
   "source": [
    "#### 10.Write a Python Program to Cloning or Copying a list ?"
   ]
  },
  {
   "cell_type": "code",
   "execution_count": 5,
   "id": "55882ca5",
   "metadata": {},
   "outputs": [
    {
     "name": "stdout",
     "output_type": "stream",
     "text": [
      "Enter a list elements separated by space 1 2 3 4 5 6\n",
      "clone list is [1, 2, 3, 4, 5, 6]\n"
     ]
    }
   ],
   "source": [
    "input_string = input(\"Enter a list elements separated by space \")\n",
    "list1  = input_string.split()\n",
    "list2 = []\n",
    "copiedlist =[]\n",
    "for num in list1:\n",
    "    list2.append(int(num))\n",
    "copiedlist =list2.copy()\n",
    "print(\"clone list is\",copiedlist)"
   ]
  },
  {
   "cell_type": "markdown",
   "id": "37e5e6bd",
   "metadata": {},
   "source": [
    "#### 11.Write a Python Program to count occurences of an element in a list ?"
   ]
  },
  {
   "cell_type": "code",
   "execution_count": 9,
   "id": "8a5e7b52",
   "metadata": {},
   "outputs": [
    {
     "name": "stdout",
     "output_type": "stream",
     "text": [
      "Enter a list elements separated by space anu 1 1 khushi 5 5 khushi anu khushi 9 9 9\n",
      "Enter element from list to count khushi\n",
      "count of khushi in list is 3\n"
     ]
    }
   ],
   "source": [
    "def checkOccurence():\n",
    "    input_string = input(\"Enter a list elements separated by space \")\n",
    "    list1  = input_string.split()\n",
    "    list2 = []\n",
    "    for num in list1:\n",
    "        list2.append(num)\n",
    "    element =input(\"Enter element from list to count \")\n",
    "    count_of_element=list2.count(element)\n",
    "    print(f\"count of {element} in list is\",count_of_element)\n",
    "\n",
    "checkOccurence()"
   ]
  }
 ],
 "metadata": {
  "kernelspec": {
   "display_name": "Python 3 (ipykernel)",
   "language": "python",
   "name": "python3"
  },
  "language_info": {
   "codemirror_mode": {
    "name": "ipython",
    "version": 3
   },
   "file_extension": ".py",
   "mimetype": "text/x-python",
   "name": "python",
   "nbconvert_exporter": "python",
   "pygments_lexer": "ipython3",
   "version": "3.11.2"
  }
 },
 "nbformat": 4,
 "nbformat_minor": 5
}
