{
 "cells": [
  {
   "cell_type": "markdown",
   "id": "d3a4bb27",
   "metadata": {},
   "source": [
    "# Assignment 7"
   ]
  },
  {
   "cell_type": "markdown",
   "id": "823845d3",
   "metadata": {},
   "source": [
    "#### 1. Write a Python Program to find sum of Array ?"
   ]
  },
  {
   "cell_type": "code",
   "execution_count": 1,
   "id": "6dd2fd5c",
   "metadata": {},
   "outputs": [
    {
     "name": "stdout",
     "output_type": "stream",
     "text": [
      "Enter the Array: 1,2,3,4,5,6,7\n",
      "The sum of (1, 2, 3, 4, 5, 6, 7) is 28\n"
     ]
    }
   ],
   "source": [
    "arr = eval(input(\"Enter the Array: \"))\n",
    "print(f'The sum of {arr} is {sum(arr)}')\n"
   ]
  },
  {
   "cell_type": "markdown",
   "id": "9e6c1983",
   "metadata": {},
   "source": [
    "#### 2. Write a Python Program to find Largest element in an Array ?"
   ]
  },
  {
   "cell_type": "code",
   "execution_count": 2,
   "id": "e5c57cb3",
   "metadata": {},
   "outputs": [
    {
     "name": "stdout",
     "output_type": "stream",
     "text": [
      "Enter the Array: 1,2,3,4,5,6,7\n",
      "The Largest Element in (1, 2, 3, 4, 5, 6, 7) is 7\n"
     ]
    }
   ],
   "source": [
    "arr = eval(input(\"Enter the Array: \"))\n",
    "print(f\"The Largest Element in {arr} is {sorted(arr, reverse=True)[0]}\")\n"
   ]
  },
  {
   "cell_type": "markdown",
   "id": "c2705b7d",
   "metadata": {},
   "source": [
    "#### 3. Write a Python Program for array rotation ?"
   ]
  },
  {
   "cell_type": "code",
   "execution_count": 3,
   "id": "08afb7ff",
   "metadata": {},
   "outputs": [
    {
     "name": "stdout",
     "output_type": "stream",
     "text": [
      "Enter the Array: 1,2,3,4,5,6,7\n",
      "The Reverse of Array (1, 2, 3, 4, 5, 6, 7) is (7, 6, 5, 4, 3, 2, 1)\n"
     ]
    }
   ],
   "source": [
    "arr = eval(input(\"Enter the Array: \"))\n",
    "print(f\"The Reverse of Array {arr} is {arr[::-1]}\")\n"
   ]
  },
  {
   "cell_type": "markdown",
   "id": "5b6207c1",
   "metadata": {},
   "source": [
    "#### 4. Write a Python Program to Split the array and add the first part to the end ?"
   ]
  },
  {
   "cell_type": "code",
   "execution_count": 4,
   "id": "d6e5de3d",
   "metadata": {},
   "outputs": [
    {
     "name": "stdout",
     "output_type": "stream",
     "text": [
      "enter array :1,2,3,4,5,6,7\n",
      "The list is :\n",
      "[1, 2, 3, 4, 5, 6, 7]\n",
      "The splitarr method is being called\n",
      "4\n",
      "5\n",
      "6\n",
      "7\n",
      "1\n",
      "2\n",
      "3\n"
     ]
    }
   ],
   "source": [
    "def splitarr(arr, n_val, k_val):\n",
    "   for i in range(0, k_val):\n",
    "      first_val = arr[0]\n",
    "      for k in range(0, n_val-1):\n",
    "         arr[k] = arr[k + 1]\n",
    "      arr[n_val-1] = first_val\n",
    "arr1 = eval(input(\"enter array :\"))\n",
    "arr=list(arr1)\n",
    "arrlen= len(arr)\n",
    "pos = 3\n",
    "print(\"The list is :\")\n",
    "print(arr)\n",
    "print(\"The splitarr method is being called\")\n",
    "splitarr(arr, arrlen, pos)\n",
    "for i in range(0, arrlen):\n",
    "    print(arr[i])\n"
   ]
  },
  {
   "cell_type": "markdown",
   "id": "eb0e084d",
   "metadata": {},
   "source": [
    "#### 5. Write a Python Program to check if given array is Monotonic ?"
   ]
  },
  {
   "cell_type": "code",
   "execution_count": 5,
   "id": "f9a52b1e",
   "metadata": {},
   "outputs": [
    {
     "name": "stdout",
     "output_type": "stream",
     "text": [
      "Enter the Array: 1,2,3,4,5,6,7\n",
      "Array is Monotonic\n"
     ]
    }
   ],
   "source": [
    "def Monotonic():\n",
    "    arr = eval(input(\"Enter the Array: \"))\n",
    "    if(all(arr[i]<=arr[i+1] for i in range(len(arr)-1)) or all(arr[i]>=arr[i+1] for i in range(len(arr)-1))):\n",
    "        print('Array is Monotonic')\n",
    "    else:\n",
    "        print('Arrayis Not Monotonic')\n",
    "\n",
    "Monotonic()\n"
   ]
  }
 ],
 "metadata": {
  "kernelspec": {
   "display_name": "Python 3 (ipykernel)",
   "language": "python",
   "name": "python3"
  },
  "language_info": {
   "codemirror_mode": {
    "name": "ipython",
    "version": 3
   },
   "file_extension": ".py",
   "mimetype": "text/x-python",
   "name": "python",
   "nbconvert_exporter": "python",
   "pygments_lexer": "ipython3",
   "version": "3.11.2"
  }
 },
 "nbformat": 4,
 "nbformat_minor": 5
}
