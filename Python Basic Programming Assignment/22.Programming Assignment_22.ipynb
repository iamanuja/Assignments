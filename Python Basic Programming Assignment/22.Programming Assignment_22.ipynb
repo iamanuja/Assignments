{
 "cells": [
  {
   "cell_type": "markdown",
   "id": "89394763",
   "metadata": {},
   "source": [
    "### Assignment 22 "
   ]
  },
  {
   "cell_type": "markdown",
   "id": "3a654c53",
   "metadata": {},
   "source": [
    "#### 1.Create a function that takes three parameters where:\n",
    "x is the start of the range (inclusive).    \n",
    "y is the end of the range (inclusive).    \n",
    "n is the divisor to be checked against.    \n",
    "\n",
    "Return an ordered list with numbers in the range that are divisible by the third parameter n.\n",
    "Return an empty list if there are no numbers that are divisible by n.\n",
    "**Examples:**  \n",
    "list_operation(1, 10, 3) ➞ [3, 6, 9] \n",
    "list_operation(7, 9, 2) ➞ [8]  \n",
    "list_operation(15, 20, 7) ➞ []  "
   ]
  },
  {
   "cell_type": "code",
   "execution_count": 7,
   "id": "2818230a",
   "metadata": {},
   "outputs": [
    {
     "name": "stdout",
     "output_type": "stream",
     "text": [
      "Output: -> [3, 6, 9]\n"
     ]
    }
   ],
   "source": [
    "def list_operation(start,end,divisor):\n",
    "    out_list = []\n",
    "    for ele in range(start,end+1):\n",
    "        if ele%divisor == 0:\n",
    "            out_list.append(ele)\n",
    "    print(f'Output: -> {out_list}')\n",
    "\n",
    "list_operation(1, 10, 3)"
   ]
  },
  {
   "cell_type": "markdown",
   "id": "3324d5fa",
   "metadata": {},
   "source": [
    "#### 2.Create a function that takes in two lists and returns True if the second list follows the first list by one element, and False otherwise. In other words, determine if the second list is the first list shifted to the right by 1.\n",
    "**Examples:**   \n",
    "simon_says([1, 2], [5, 1]) ➞ True  \n",
    "simon_says([1, 2], [5, 5]) ➞ False  \n",
    "simon_says([1, 2, 3, 4, 5], [0, 1, 2, 3, 4]) ➞ True  \n",
    "simon_says([1, 2, 3, 4, 5], [5, 5, 1, 2, 3]) ➞ False  \n",
    "\n",
    "**Notes:**  \n",
    "    1. Both input lists will be of the same length, and will have a minimum length of 2.  \n",
    "    2. The values of the 0-indexed element in the second list and the n-1th indexed element in the first list do not matter."
   ]
  },
  {
   "cell_type": "code",
   "execution_count": 10,
   "id": "69aeffe4",
   "metadata": {},
   "outputs": [
    {
     "name": "stdout",
     "output_type": "stream",
     "text": [
      "([1, 2, 3, 4, 5], [0, 1, 2, 3, 4]) -> True\n"
     ]
    }
   ],
   "source": [
    "def simon_says(list1,list2):\n",
    "    if len(list1) == len(list2) and len(list1) >=2:\n",
    "        if(list1[:-1] == list2[1:]):\n",
    "            print(f'{list1,list2} -> {True}')\n",
    "        else:\n",
    "            print(f'{list1,list2} -> {False}')\n",
    "        \n",
    "simon_says([1, 2, 3, 4, 5], [0, 1, 2, 3, 4])"
   ]
  },
  {
   "cell_type": "markdown",
   "id": "25853c5d",
   "metadata": {},
   "source": [
    "#### 3.A group of friends have decided to start a secret society. The name will be the first letter of each of their names, sorted in a alphabetical order ?  Create a function that takes in a list of names and returns the name of the secret society ?\n",
    "**Examples:**  \n",
    "society_name([\"Adam\", \"Sarah\", \"Malcolm\"]) ➞ \"AMS\" \n",
    "society_name([\"Harry\", \"Newt\", \"Luna\", \"Cho\"]) ➞ \"CHLN\" society_name([\"Phoebe\", \"Chandler\", \"Rachel\", \"Ross\", \"Monica\", \"Joey\"])"
   ]
  },
  {
   "cell_type": "code",
   "execution_count": 13,
   "id": "91c25bdf",
   "metadata": {},
   "outputs": [
    {
     "name": "stdout",
     "output_type": "stream",
     "text": [
      "['Adam', 'Sarah', 'Malcolm'] -> AMS\n"
     ]
    }
   ],
   "source": [
    "def society_name(list1):\n",
    "    string = []\n",
    "    for ele in list1:\n",
    "        string.append(ele[0])\n",
    "    output = ''.join(sorted(string))\n",
    "    print(f'{list1} -> {output}')\n",
    "society_name([\"Adam\", \"Sarah\", \"Malcolm\"])"
   ]
  },
  {
   "cell_type": "markdown",
   "id": "00abaab8",
   "metadata": {},
   "source": [
    "#### 4.An isogram is a word that has no duplicate letters. Create a function that takes a string and returns either True or False depending on whether or not it's an \"isogram\".\n",
    "**Examples:**   \n",
    "is_isogram(\"Algorism\") ➞ True  \n",
    "is_isogram(\"PasSword\") ➞ False  \n",
    "    # Not case sensitive.   \n",
    "is_isogram(\"Consecutive\") ➞ False  \n",
    "\n",
    "**Notes:**  \n",
    "Ignore letter case (should not be case sensitive).  \n",
    "All test cases contain valid one word strings.  "
   ]
  },
  {
   "cell_type": "code",
   "execution_count": 14,
   "id": "1f56651f",
   "metadata": {},
   "outputs": [
    {
     "name": "stdout",
     "output_type": "stream",
     "text": [
      "enter string : algorithm\n",
      "algorithm -> True\n"
     ]
    }
   ],
   "source": [
    "str1=input(\"enter string : \")\n",
    "def is_isogram():\n",
    "    lowerstr1 =str1.lower()\n",
    "    if len(lowerstr1) == len(set(lowerstr1)):\n",
    "        print(f'{str1} -> {True}')\n",
    "    else:\n",
    "        print(f'{str1} -> {False}')\n",
    "    \n",
    "is_isogram()"
   ]
  },
  {
   "cell_type": "markdown",
   "id": "af15cec2",
   "metadata": {},
   "source": [
    "#### 5.Create a function that takes a string and returns True or False, depending on whether the characters are in order or not ?\n",
    "**Examples:**  \n",
    "is_in_order(\"abc\") ➞ True  \n",
    "is_in_order(\"edabit\") ➞ False  \n",
    "is_in_order(\"123\") ➞ True  \n",
    "is_in_order(\"xyzz\") ➞ True  \n",
    "\n",
    "**Notes:**  \n",
    "You don't have to handle empty strings."
   ]
  },
  {
   "cell_type": "code",
   "execution_count": 15,
   "id": "74c3bccd",
   "metadata": {},
   "outputs": [
    {
     "name": "stdout",
     "output_type": "stream",
     "text": [
      "abc -> True\n"
     ]
    }
   ],
   "source": [
    "def is_in_order(string):\n",
    "    sorted1 = ''.join(sorted(string))\n",
    "    if string == sorted1:\n",
    "        print(f'{string} -> {True}')\n",
    "    else:\n",
    "        print(f'{string} -> {False}')\n",
    "\n",
    "is_in_order(\"abc\")"
   ]
  }
 ],
 "metadata": {
  "kernelspec": {
   "display_name": "Python 3 (ipykernel)",
   "language": "python",
   "name": "python3"
  },
  "language_info": {
   "codemirror_mode": {
    "name": "ipython",
    "version": 3
   },
   "file_extension": ".py",
   "mimetype": "text/x-python",
   "name": "python",
   "nbconvert_exporter": "python",
   "pygments_lexer": "ipython3",
   "version": "3.11.2"
  }
 },
 "nbformat": 4,
 "nbformat_minor": 5
}
