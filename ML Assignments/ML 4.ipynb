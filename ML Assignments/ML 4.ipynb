{
 "cells": [
  {
   "cell_type": "markdown",
   "id": "b2aa57f2",
   "metadata": {},
   "source": [
    "### Assignment 4 "
   ]
  },
  {
   "cell_type": "markdown",
   "id": "5f4c3ef3",
   "metadata": {},
   "source": [
    "##### 1. What are the key tasks involved in getting ready to work with machine learning modeling ?"
   ]
  },
  {
   "cell_type": "markdown",
   "id": "c359b60e",
   "metadata": {},
   "source": [
    "Ans: The Key Tasks involved in getting ready to work with Machine learning Modelling are:\n",
    "1. Data collection: Defining the problem and assembling a dataset.\n",
    "2. Data preparation: Preparing your data.\n",
    "3. Choosing a Model\n",
    "4. Training the Model: Developing a model that does better than a baseline.\n",
    "5. Evaluating the Model: Choosing a measure of success. Deciding on an evaluation protocol.\n",
    "6. Parameter tuning: Scaling up: developing a model that overfits.Regularizing your model and tuning your parameters.\n",
    "7. Prediction or Inference."
   ]
  },
  {
   "cell_type": "markdown",
   "id": "0bdf36f2",
   "metadata": {},
   "source": [
    "##### 2. What are the different forms of data used in machine learning ? Give a specific example for each of them ?\n",
    "\n",
    "**Ans:** \n",
    "**Qualitative Data(Categorical Data)**\n",
    "Qualitative data is a set of information which can not be measured using numbers. It generally consist of words, subjective narratives. Categorical data can take numerical values. For example, maybe we would use 1 for the colour red and 2 for blue. But these numbers don’t have a mathematical meaning. That is, we can’t add them together or take the average.\n",
    "It contains 2 types :\n",
    "**Nominal** : “Nominal” scales could simply be called “labels.”  Note: a sub-type of nominal scale with only two categories (e.g. male/female) is called “dichotomous.”\n",
    "**Ordinal** : “Ordinal” is easy to remember because is sounds like “order” and that’s the key to remember with\n",
    "“ordinal scales”– it is the order that matters, but that’s all you really get from these. \n",
    "\n",
    "**Quantitative data (Numerical Data:)** Numerical data is any data where data points are exact numbers. Statisticians also might call numerical data, quantitative data. This data has meaning as a measurement such as house prices or as a count, such as a number of residential properties in Los Angeles or how many houses sold in the past year.\n",
    "It contains 2 types :\n",
    "**discrete** : Discrete data refers to countable, individualized, and nondivisible figures in statistics. These data points exist only in set increments. Data analysts and statisticians visualize discrete data using bar graphs, line charts, histograms, and pie charts.\n",
    "**continous** : Continuous data is a type of numerical data that refers to the unspecified number of possible measurements between two realistic points."
   ]
  },
  {
   "cell_type": "markdown",
   "id": "8da3a03a",
   "metadata": {},
   "source": [
    "##### 3. Distinguish between :\n",
    "1. Numeric vs. categorical attributes\n",
    "2. Feature selection vs. dimensionality reduction"
   ]
  },
  {
   "cell_type": "markdown",
   "id": "9a4a0e93",
   "metadata": {},
   "source": [
    "**Ans:** The following are the differences between:\n",
    "\n",
    "1. **Numeric vs. categorical attributes:**  \n",
    "- Numerical data are values obtained for quantitative variable, and carries a sense of magnitude related to the context of the variable (hence, they are always numbers or symbols carrying a numerical value). \n",
    "- Categorical data are values obtained for a qualitative variable. categorical data numbers do not carry a sense of magnitude.\n",
    "- Numerical data always belong to either ordinal, ratio, or interval type, whereas categorical data belong to nominal  type. - - Methods used to analyse quantitative data are different from the methods used for categorical data, even if the principles are the same at least the application has significant differences.\n",
    "- Numerical data are analysed using  statistical methods in descriptive statistics, regression, time series and many more.For categorical data usually descriptive methods and graphical methods are employed. Some non-parametric tests are also used.\n",
    "\n",
    "\n",
    "2. **Feature selection vs. dimensionality reduction**  \n",
    "- Feature selection you just select a subset of the original feature set, without any manipulation of the data on the other hand.\n",
    "- Dimensionality reduction is typically choosing a new representation within which you can describe most but not all of the variance within your data, thereby retaining the relevant information, while reducing theamount of information necessary to represent it."
   ]
  },
  {
   "cell_type": "markdown",
   "id": "416b863d",
   "metadata": {},
   "source": [
    "##### 4. Make quick notes on any two of the following ?\n",
    "1. The histogram\n",
    "2. Use a scatter plot\n",
    "3. PCA (Personal Computer Aid)\n",
    "\n",
    "**Ans:** The Quick notes on the following three topics is:\n",
    "\n",
    "**The histogram:** A histogram is a graphical representation of a grouped frequency distribution with continuous classes. It is an area diagram and can be defined as a set of rectangles with bases along with the intervals between class boundaries and with areas proportional to frequencies in the corresponding classes.It is interpreted visual by taking many data points and grouping them into logical ranges or bins.\n",
    "\n",
    "**Use a scatter plot:** Scatter plots are the graphs that present the relationship between two variables in a data-set. It represents data points on a two-dimensional plane or on a Cartesian system. The independent variable or attribute is plotted on the X-axis, while the dependent variable is plotted on the Y-axis. These plots are often called scatter graphs or scatter diagrams.\n",
    "**Scatter plots are used in either of the following situations.**\n",
    "1. When we have paired numerical data\n",
    "2. When there are multiple values of the dependent variable for a unique value of an independent variable\n",
    "3. In determining the relationship between variables in some scenarios, such as identifying potential root causes of problems, checking whether two products that appear to be related both occur with the exact cause and so on.\n",
    "\n",
    "**PCA (Personal Computer Aid):** Principal Component Analysis or PCA is a widely used technique for dimensionality reduction of the large data set. Reducing the number of components or features costs some accuracy and on the other hand, it makes the large data set simpler, easy to explore and visualize. "
   ]
  },
  {
   "cell_type": "markdown",
   "id": "986de4b3",
   "metadata": {},
   "source": [
    "##### 5. Why is it necessary to investigate data? Is there a discrepancy in how qualitative and quantitative data are explored ?"
   ]
  },
  {
   "cell_type": "markdown",
   "id": "8234c6ef",
   "metadata": {},
   "source": [
    "**Ans:** If your data set is messy, building models will not help you to solve your problem. What will happen is `Garbage In, Garbage Out.` In order to build a powerful machine learning algorithm. We need to explore and understand our data set before we define a predictive task and solve it. \n",
    "**Quantitative data** is gathered by measuring and counting. **Qualitative data** is collected by interviewing and observing.\n",
    "**Quantitative data is analyzed** using statistical analysis, while **qualitative data is analyzed** by grouping it in terms of meaningful categories or themes."
   ]
  },
  {
   "cell_type": "markdown",
   "id": "3d354a55",
   "metadata": {},
   "source": [
    "##### 6. What are the various histogram shapes? What exactly are ‘bins' ?"
   ]
  },
  {
   "cell_type": "markdown",
   "id": "32e38cf9",
   "metadata": {},
   "source": [
    "**Ans:** The different types of a Histogram are:\n",
    "\n",
    "1. Uniform Histogram\n",
    "2. Symmetric Histogram\n",
    "3. Bimodal Histogram\n",
    "4. Probability Histogram.  \n",
    "\n",
    "The `bin` in a histogram is the choice of unit and spacing on the X-axis. All the data in a probability distribution represented visually by a histogram is filled into the corresponding bins. The height of each bin is a measurement of  the frequency with which data appears inside the range of that bin in the distribution."
   ]
  },
  {
   "cell_type": "markdown",
   "id": "e4b25fc0",
   "metadata": {},
   "source": [
    "##### 7. How do we deal with data outliers ?"
   ]
  },
  {
   "cell_type": "markdown",
   "id": "e682d8f5",
   "metadata": {},
   "source": [
    "**Ans:** Depending on the specific characteristics of the data, there are several ways to handle outliers in a dataset. Let’s review a few of the most common approaches to handle outliers below:\n",
    "\n",
    "**Remove outliers:**\n",
    "In some cases, it may be appropriate to simply remove the observations that contain outliers. This can be particularly useful if you have a large number of observations and the outliers are not true representatives of the underlying population.\n",
    "**Transform outliers:**\n",
    "The impact of outliers can be reduced or eliminated by transforming the feature. For example, a log transformation of a feature can reduce the skewness in the data, reducing the impact of outliers.\n",
    "**Impute outliers:**\n",
    "In this case, outliers are simply considered as missing values. You can employ various imputation techniques for missing values, such as mean, median, mode, nearest neighbor, etc., to impute the values for outliers.\n",
    "**Use robust statistical methods:**\n",
    "Some of the statistical methods are less sensitive to outliers and can provide more reliable results when outliers are present in the data. For example, we can use median and IQR for the statistical analysis as they are not affected by the outlier’s presence. This way we can minimize the impact of outliers in statistical analysis."
   ]
  },
  {
   "cell_type": "markdown",
   "id": "2a098bf0",
   "metadata": {},
   "source": [
    "##### 8. What are the various central inclination measures? Why does mean vary too much from median in certain data sets ?"
   ]
  },
  {
   "cell_type": "markdown",
   "id": "fb4c2905",
   "metadata": {},
   "source": [
    "**Ans:** Mean, Median and Mode are Central Inclination Measures. Mean varies more than Median due to presence of outliers, as mean is averaging all points while median in like finding a middle number. "
   ]
  },
  {
   "cell_type": "markdown",
   "id": "a8082d30",
   "metadata": {},
   "source": [
    "##### 9. Describe how a scatter plot can be used to investigate bivariate relationships. Is it possible to find outliers using a scatter plot ?"
   ]
  },
  {
   "cell_type": "markdown",
   "id": "86e13150",
   "metadata": {},
   "source": [
    "**Ans:** A Scatter Plot (aka scatter chart, scatter graph) uses dots to represent values for two different numeric variables. The position of each dot on the horizontal and vertical axis indicates values for an individual data point. So this visualization gives us the idea of bivariate relationship.Scatter plot can also help finding outliers as outliers can be visualized at farther distance than regular data. "
   ]
  },
  {
   "cell_type": "markdown",
   "id": "bbbf6ea5",
   "metadata": {},
   "source": [
    "##### 10. Describe how cross-tabs can be used to figure out how two variables are related ?"
   ]
  },
  {
   "cell_type": "markdown",
   "id": "6ec5c3cd",
   "metadata": {},
   "source": [
    "**Ans:** Cross tabulation is a method to quantitatively analyze the relationship between multiple variables. Also known as contingency tables or cross tabs, cross tabulation groups variables to understand the correlation between different variables. It also shows how correlations change from one variable grouping to another. "
   ]
  }
 ],
 "metadata": {
  "kernelspec": {
   "display_name": "Python 3 (ipykernel)",
   "language": "python",
   "name": "python3"
  },
  "language_info": {
   "codemirror_mode": {
    "name": "ipython",
    "version": 3
   },
   "file_extension": ".py",
   "mimetype": "text/x-python",
   "name": "python",
   "nbconvert_exporter": "python",
   "pygments_lexer": "ipython3",
   "version": "3.10.9"
  }
 },
 "nbformat": 4,
 "nbformat_minor": 5
}
