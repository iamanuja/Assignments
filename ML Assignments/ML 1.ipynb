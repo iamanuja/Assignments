{
 "cells": [
  {
   "cell_type": "markdown",
   "id": "da5162c1",
   "metadata": {},
   "source": [
    "# ML Assignment 1 "
   ]
  },
  {
   "cell_type": "markdown",
   "id": "5542f5dd",
   "metadata": {},
   "source": [
    "##### 1. What does one mean by the term \"machine learning\" ?\n",
    "**Ans**:Machine Learning is the field of study that gives computers the ability to learn without being explicitly programmed.\n",
    "—Arthur Samuel, 1959\n",
    " "
   ]
  },
  {
   "cell_type": "markdown",
   "id": "191d54fe",
   "metadata": {},
   "source": [
    "##### 2.Can you think of 4 distinct types of issues where it shines ?\n",
    "**Ans:** The following are some of the issues where Machine Learning can be used:\n",
    "Medical diagnosis ,Fraud detection ,Spam detection ,Speech recognition, Product recommendations, Traffic prediction\n"
   ]
  },
  {
   "cell_type": "markdown",
   "id": "2be941b1",
   "metadata": {},
   "source": [
    "##### 3.What is a labeled training set, and how does it work ?\n",
    "**Ans:** labelled training data means some input data is already tagged with the correct output.labeled training set data provided to the machines work as the supervisor that teaches the machines to predict the output correctly. It applies the same concept as a student learns in the supervision of the teacher."
   ]
  },
  {
   "cell_type": "markdown",
   "id": "af127751",
   "metadata": {},
   "source": [
    "##### 4.What are the two most important tasks that are supervised ?\n",
    "**Ans:** The two most common supervised learning tasks are **Regression** and **Classification**."
   ]
  },
  {
   "cell_type": "markdown",
   "id": "18091371",
   "metadata": {},
   "source": [
    "##### 5.Can you think of four examples of unsupervised tasks ?\n",
    "**Ans:** Four common Unsupervised Tasks included **Clustering**, **Visualization**, **Dimensionality Reduction**, and **Association Rule Learning**."
   ]
  },
  {
   "cell_type": "markdown",
   "id": "4253e5da",
   "metadata": {},
   "source": [
    "##### 6.State the machine learning model that would be best to make a robot walk through various unfamiliar terrains ?\n",
    "**Ans:** Reinforcement learning model"
   ]
  },
  {
   "cell_type": "markdown",
   "id": "ad8c6cd2",
   "metadata": {},
   "source": [
    "##### 7.Which algorithm will you use to divide your customers into different groups ?\n",
    "**Ans:** algorithms for dividing customers into different groups are **Supervised Learning** - if the groups have labels\n",
    "or **Unsupervised Learning** -if there are no group labels."
   ]
  },
  {
   "cell_type": "markdown",
   "id": "9105b2d5",
   "metadata": {},
   "source": [
    "##### 8.Will you consider the problem of spam detection to be a supervised or unsupervised learning problem ?\n",
    "**Ans:** Supervised Machine Learning problem because the labels are known i.e spam or no spam."
   ]
  },
  {
   "cell_type": "markdown",
   "id": "0c085053",
   "metadata": {},
   "source": [
    "##### 9.What is the concept of an online learning system ?\n",
    "**Ans:** In online learning, you train the system incrementally by feeding it data instances sequentially, either individually or in small groups called mini-batches. Each learning step is fast and cheap, so the system can learn about new data on the fly,\n",
    "Online learning is able to overcome drawbacks of offline learning like models can be updated instantly for any change in data. \n",
    "        Therefore online learning is far more efficient and scalable for large-scale learning tasks in real-world data, analytics, and various applications where data is not only large in size but also arrives at high velocity"
   ]
  },
  {
   "cell_type": "markdown",
   "id": "90fdf632",
   "metadata": {},
   "source": [
    "##### 10.What is out-of-core learning, and how does it differ from core learning ?\n",
    "**Ans:** Online learning algorithms can also be used to train systems on huge datasets thatcannot fit in one machine’s main memory (this is called out-of-core learning). Out-of-core learning is usually done offline (i.e., not on the live\n",
    "system), so online learning can be a confusing name. Think of it as incremental learning.\n"
   ]
  },
  {
   "cell_type": "markdown",
   "id": "25b1ebf0",
   "metadata": {},
   "source": [
    "##### 11.What kind of learning algorithm makes predictions using a similarity measure ?\n",
    "**Ans:** Instance Based Algorithms"
   ]
  },
  {
   "cell_type": "markdown",
   "id": "b4791c36",
   "metadata": {},
   "source": [
    "##### 12.What's the difference between a model parameter and a hyperparameter in a learning algorithm ?\n",
    "**Ans:** \n",
    "**Model parameters** are configuration variables that are internal to the model, and a model learns them on its own.These are learned & set by the model by itself.These are dependent on the dataset, which is used for training.\n",
    "\n",
    "**Hyperparameters** are those parameters that are explicitly defined by the user to control the learning process.These are set manually by a machine learning engineer/practitioner.These are independent of the dataset.it must be set prior to training and remains constant during training\n",
    "\n"
   ]
  },
  {
   "cell_type": "markdown",
   "id": "1574e21a",
   "metadata": {},
   "source": [
    "##### 13.What are the criteria that model-based learning algorithms look for? What is the most popular method they use to achieve success? What method do they use to make predictions ?\n",
    "**Ans:** Model-based learning algorithms search for optimal values of the model parameters such that the model generalizes well for new instances.We measure success by training the system to minimize a cost function which measures how bad the model is at making predictions.In order to make predictions, we pass the testing data to our model and make predictions using our optimized model parameters."
   ]
  },
  {
   "cell_type": "markdown",
   "id": "42e921cd",
   "metadata": {},
   "source": [
    "##### 14.Can you name four of the most important Machine Learning challenges ?\n",
    "**Ans:** Four main challenges in Machine Learning include the following:\n",
    "1. Insufficient Quantity of Training Data\n",
    "2. Nonrepresentative Training Data\n",
    "3. Poor-Quality Data\n",
    "4. Irrelevant Features\n",
    "5. Overfitting the Training Data\n",
    "6. Underfitting the Training Data"
   ]
  },
  {
   "cell_type": "markdown",
   "id": "2e45ca05",
   "metadata": {},
   "source": [
    "##### 15.What happens if the model performs well on the training data but fails to generalize the results to new situations? Can you think of three different options ?\n",
    "**Ans:** If an algorithm works well on the training set but fails to generalize, we say it is overfitting.Good models will\n",
    "probably still overfit at least a little bit, and if we try to eliminate overfitting,\n",
    "i.e. eliminate the gap between training and test error, we’ll probably cripple\n",
    "our model so that it doesn’t learn anything at all.\n",
    "1. reducing the capacity\n",
    "2. early stopping\n",
    "3. weight decay\n",
    "4.  ensembles\n",
    "5.  input transformations\n",
    "6.  stochastic regularization"
   ]
  },
  {
   "cell_type": "markdown",
   "id": "cb05d8b8",
   "metadata": {},
   "source": [
    "##### 16.What exactly is a test set, and why would you need one ?\n",
    "**Ans:** Test set is a set to test your model (fit using training data) to see how it performs.Test set is necessary to determine how good (or bad) a model performs."
   ]
  },
  {
   "cell_type": "markdown",
   "id": "abf60183",
   "metadata": {},
   "source": [
    "##### 17.What is a validation set's purpose ?\n",
    "**Ans:** validation set is used to evaluate several candidate models(evaluation between different training models)."
   ]
  },
  {
   "cell_type": "markdown",
   "id": "31ed593a",
   "metadata": {},
   "source": [
    "##### 18.What precisely is the train-dev kit, when will you need it, how do you put it to use ?\n",
    "**Ans:** hold out some part of the training set in another set that part Andrew Ng calls the train-dev set. After the model is trained (on the training set, not on the train-dev set), you can evaluate it on the train-dev set: if it performs well, then the model is not overfitting the training set, so if performs poorly on the validation set, the problem must come from the data mismatch. "
   ]
  },
  {
   "cell_type": "markdown",
   "id": "2148fdcb",
   "metadata": {},
   "source": [
    "##### 19.What could go wrong if you use the test set to tune hyperparameters ?\n",
    "**Ans:** The test set is normally a part of the data that you want to use to check how good the final, trained model will perform on data it has never seen before. If you use this data to choose hyperparameters, you actually give the model a chance to \"see\" the test data and to develop a bias towards this test data. Therefore, you actually lose the possibility to find out how good your model would actually be on unseen data (because it has already seen the test data)."
   ]
  },
  {
   "cell_type": "code",
   "execution_count": null,
   "id": "680c1dfb",
   "metadata": {},
   "outputs": [],
   "source": []
  }
 ],
 "metadata": {
  "kernelspec": {
   "display_name": "Python 3 (ipykernel)",
   "language": "python",
   "name": "python3"
  },
  "language_info": {
   "codemirror_mode": {
    "name": "ipython",
    "version": 3
   },
   "file_extension": ".py",
   "mimetype": "text/x-python",
   "name": "python",
   "nbconvert_exporter": "python",
   "pygments_lexer": "ipython3",
   "version": "3.10.9"
  }
 },
 "nbformat": 4,
 "nbformat_minor": 5
}
